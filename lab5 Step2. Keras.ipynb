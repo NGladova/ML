{
 "cells": [
  {
   "cell_type": "code",
   "execution_count": 22,
   "metadata": {},
   "outputs": [],
   "source": [
    "import pandas as pd\n",
    "import numpy as np"
   ]
  },
  {
   "cell_type": "code",
   "execution_count": 23,
   "metadata": {},
   "outputs": [],
   "source": [
    "dtrain = pd.read_csv('C:/Anaconda/lab5/train.csv')\n",
    "dtest = pd.read_csv('C:/Anaconda/lab5/test.csv')"
   ]
  },
  {
   "cell_type": "code",
   "execution_count": 24,
   "metadata": {},
   "outputs": [
    {
     "name": "stderr",
     "output_type": "stream",
     "text": [
      "C:\\Anaconda\\lib\\site-packages\\sklearn\\cross_validation.py:41: DeprecationWarning: This module was deprecated in version 0.18 in favor of the model_selection module into which all the refactored classes and functions are moved. Also note that the interface of the new CV iterators are different from that of this module. This module will be removed in 0.20.\n",
      "  \"This module will be removed in 0.20.\", DeprecationWarning)\n"
     ]
    }
   ],
   "source": [
    "from sklearn import cross_validation\n",
    "\n",
    "x_train, x_valid, y_train, y_valid = cross_validation.train_test_split(\n",
    "dtrain.drop(('label'), axis=1).astype('float32')/255.0,        \n",
    "dtrain['label'],                                              \n",
    "test_size = 0.2,\n",
    "random_state = 11)"
   ]
  },
  {
   "cell_type": "code",
   "execution_count": 25,
   "metadata": {},
   "outputs": [],
   "source": [
    "from keras.models import Sequential\n",
    "from keras.layers import Dense\n",
    "from keras import regularizers\n",
    "\n",
    "model = Sequential()\n",
    "model.add(Dense(800, input_dim=x_train.shape[1], activation=\"relu\", kernel_initializer=\"normal\", kernel_regularizer=regularizers.l2(0.01)))\n",
    "model.add(Dense(600, activation=\"relu\", kernel_initializer=\"normal\"))\n",
    "model.add(Dense(10, activation=\"softmax\", kernel_initializer=\"normal\"))"
   ]
  },
  {
   "cell_type": "code",
   "execution_count": 26,
   "metadata": {},
   "outputs": [],
   "source": [
    "model.compile(loss='sparse_categorical_crossentropy',\n",
    "              optimizer='adam',\n",
    "              metrics=['accuracy'])"
   ]
  },
  {
   "cell_type": "code",
   "execution_count": 27,
   "metadata": {},
   "outputs": [
    {
     "name": "stdout",
     "output_type": "stream",
     "text": [
      "Train on 33600 samples, validate on 8400 samples\n",
      "Epoch 1/10\n",
      "33600/33600 [==============================] - 14s 421us/step - loss: 6.4097 - acc: 0.8833 - val_loss: 1.6182 - val_acc: 0.9401\n",
      "Epoch 2/10\n",
      "33600/33600 [==============================] - 13s 399us/step - loss: 0.7987 - acc: 0.9455 - val_loss: 0.4339 - val_acc: 0.9450\n",
      "Epoch 3/10\n",
      "33600/33600 [==============================] - 13s 396us/step - loss: 0.3104 - acc: 0.9563 - val_loss: 0.2856 - val_acc: 0.9544\n",
      "Epoch 4/10\n",
      "33600/33600 [==============================] - 14s 403us/step - loss: 0.2527 - acc: 0.9595 - val_loss: 0.2686 - val_acc: 0.9554\n",
      "Epoch 5/10\n",
      "33600/33600 [==============================] - 13s 386us/step - loss: 0.2279 - acc: 0.9629 - val_loss: 0.2362 - val_acc: 0.9627\n",
      "Epoch 6/10\n",
      "33600/33600 [==============================] - 14s 407us/step - loss: 0.2114 - acc: 0.9664 - val_loss: 0.2247 - val_acc: 0.9620\n",
      "Epoch 7/10\n",
      "33600/33600 [==============================] - 14s 430us/step - loss: 0.2032 - acc: 0.9677 - val_loss: 0.2218 - val_acc: 0.9615\n",
      "Epoch 8/10\n",
      "33600/33600 [==============================] - 14s 402us/step - loss: 0.1918 - acc: 0.9699 - val_loss: 0.2350 - val_acc: 0.9565\n",
      "Epoch 9/10\n",
      "33600/33600 [==============================] - 13s 401us/step - loss: 0.1912 - acc: 0.9711 - val_loss: 0.2128 - val_acc: 0.9646\n",
      "Epoch 10/10\n",
      "33600/33600 [==============================] - 13s 394us/step - loss: 0.1762 - acc: 0.9731 - val_loss: 0.2123 - val_acc: 0.9645\n"
     ]
    }
   ],
   "source": [
    "history = model.fit(x_train, y_train, validation_data=(x_valid, y_valid), epochs=10, batch_size=400)"
   ]
  },
  {
   "cell_type": "code",
   "execution_count": 28,
   "metadata": {},
   "outputs": [],
   "source": [
    "predictions = model.predict_classes(dtest, verbose=0)"
   ]
  },
  {
   "cell_type": "code",
   "execution_count": 29,
   "metadata": {},
   "outputs": [],
   "source": [
    "submissions=pd.DataFrame({\"ImageId\": list(range(1,len(predictions)+1)), \"Label\": predictions})\n",
    "submissions.to_csv(\"predictions.csv\", index=False, header=True)"
   ]
  },
  {
   "cell_type": "code",
   "execution_count": 30,
   "metadata": {},
   "outputs": [
    {
     "ename": "FileNotFoundError",
     "evalue": "[Errno 2] No such file or directory: 'LearnedLRmodel.sav'",
     "output_type": "error",
     "traceback": [
      "\u001b[1;31m---------------------------------------------------------------------------\u001b[0m",
      "\u001b[1;31mFileNotFoundError\u001b[0m                         Traceback (most recent call last)",
      "\u001b[1;32m<ipython-input-30-9a24d8d567da>\u001b[0m in \u001b[0;36m<module>\u001b[1;34m()\u001b[0m\n\u001b[0;32m      1\u001b[0m \u001b[1;32mimport\u001b[0m \u001b[0mpickle\u001b[0m\u001b[1;33m\u001b[0m\u001b[0m\n\u001b[0;32m      2\u001b[0m \u001b[1;33m\u001b[0m\u001b[0m\n\u001b[1;32m----> 3\u001b[1;33m \u001b[0mLRmodel\u001b[0m \u001b[1;33m=\u001b[0m \u001b[0mpickle\u001b[0m\u001b[1;33m.\u001b[0m\u001b[0mload\u001b[0m\u001b[1;33m(\u001b[0m\u001b[0mopen\u001b[0m\u001b[1;33m(\u001b[0m\u001b[1;34m'LearnedLRmodel.sav'\u001b[0m\u001b[1;33m,\u001b[0m \u001b[1;34m'rb'\u001b[0m\u001b[1;33m)\u001b[0m\u001b[1;33m)\u001b[0m\u001b[1;33m\u001b[0m\u001b[0m\n\u001b[0m",
      "\u001b[1;31mFileNotFoundError\u001b[0m: [Errno 2] No such file or directory: 'LearnedLRmodel.sav'"
     ]
    }
   ],
   "source": [
    "import pickle\n",
    "\n",
    "LRmodel = pickle.load(open('LearnedLRmodel.sav', 'rb'))"
   ]
  },
  {
   "cell_type": "code",
   "execution_count": 31,
   "metadata": {},
   "outputs": [
    {
     "data": {
      "text/plain": [
       "0.6403571428571428"
      ]
     },
     "execution_count": 31,
     "metadata": {},
     "output_type": "execute_result"
    }
   ],
   "source": [
    "from sklearn import metrics\n",
    "\n",
    "metrics.accuracy_score(LRmodel.predict(x_valid), y_valid)"
   ]
  },
  {
   "cell_type": "code",
   "execution_count": 32,
   "metadata": {},
   "outputs": [
    {
     "data": {
      "image/png": "[encoded data removed]",
      "text/plain": [
       "<matplotlib.figure.Figure at 0x25ef0f1aba8>"
      ]
     },
     "metadata": {},
     "output_type": "display_data"
    }
   ],
   "source": [
    "#сеть получилась лучше, чем логрег\n",
    "\n",
    "import matplotlib.pyplot as plt\n",
    "\n",
    "%matplotlib inline\n",
    "\n",
    "plt.plot(history.history['loss'])\n",
    "plt.plot(history.history['val_loss'])\n",
    "plt.title('model loss')\n",
    "plt.ylabel('loss')\n",
    "plt.xlabel('epoch')\n",
    "plt.legend(['train', 'valid'], loc='upper left')\n",
    "plt.show()"
   ]
  },
  {
   "cell_type": "code",
   "execution_count": null,
   "metadata": {},
   "outputs": [],
   "source": []
  }
 ],
 "metadata": {
  "kernelspec": {
   "display_name": "Python 3",
   "language": "python",
   "name": "python3"
  },
  "language_info": {
   "codemirror_mode": {
    "name": "ipython",
    "version": 3
   },
   "file_extension": ".py",
   "mimetype": "text/x-python",
   "name": "python",
   "nbconvert_exporter": "python",
   "pygments_lexer": "ipython3",
   "version": "3.6.4"
  }
 },
 "nbformat": 4,
 "nbformat_minor": 2
}
